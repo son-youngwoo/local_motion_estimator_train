{
 "cells": [
  {
   "cell_type": "code",
   "execution_count": 60,
   "id": "cd171ff5-23bf-41a8-8208-760f2640c91b",
   "metadata": {
    "tags": []
   },
   "outputs": [],
   "source": [
    "import tensorflow as tf\n",
    "import keras\n",
    "from keras.layers import Input, Conv2D, Activation, MaxPooling2D, Flatten, Concatenate, Dense, Dropout\n",
    "from keras.models import Model\n",
    "from keras.optimizers import Adam\n",
    "from keras import metrics\n",
    "from keras import backend as K\n",
    "\n",
    "import matplotlib.pyplot as plt\n",
    "import numpy as np\n",
    "import os\n",
    "from PIL import Image\n",
    "import pandas as pd\n",
    "from sklearn.model_selection import train_test_split\n",
    "from keras.callbacks import EarlyStopping\n",
    "from sklearn.linear_model import LinearRegression\n",
    "from sklearn.metrics import mean_squared_error, r2_score\n",
    "import h5py"
   ]
  },
  {
   "cell_type": "code",
   "execution_count": 15,
   "id": "e71a44f6-0b3f-4fa4-adbf-5be712a989a5",
   "metadata": {
    "tags": []
   },
   "outputs": [
    {
     "name": "stderr",
     "output_type": "stream",
     "text": [
      "2023-06-27 10:27:52.015985: I tensorflow/compiler/jit/xla_cpu_device.cc:41] Not creating XLA devices, tf_xla_enable_xla_devices not set\n",
      "2023-06-27 10:27:52.017473: I tensorflow/stream_executor/platform/default/dso_loader.cc:49] Successfully opened dynamic library libcuda.so.1\n",
      "2023-06-27 10:27:52.087590: I tensorflow/core/common_runtime/gpu/gpu_device.cc:1720] Found device 0 with properties: \n",
      "pciBusID: 0000:01:00.0 name: NVIDIA RTX A5000 computeCapability: 8.6\n",
      "coreClock: 1.695GHz coreCount: 64 deviceMemorySize: 23.69GiB deviceMemoryBandwidth: 715.34GiB/s\n",
      "2023-06-27 10:27:52.087898: I tensorflow/core/common_runtime/gpu/gpu_device.cc:1720] Found device 1 with properties: \n",
      "pciBusID: 0000:a1:00.0 name: NVIDIA RTX A5000 computeCapability: 8.6\n",
      "coreClock: 1.695GHz coreCount: 64 deviceMemorySize: 23.69GiB deviceMemoryBandwidth: 715.34GiB/s\n",
      "2023-06-27 10:27:52.087918: I tensorflow/stream_executor/platform/default/dso_loader.cc:49] Successfully opened dynamic library libcudart.so.10.1\n",
      "2023-06-27 10:27:52.089328: I tensorflow/stream_executor/platform/default/dso_loader.cc:49] Successfully opened dynamic library libcublas.so.10\n",
      "2023-06-27 10:27:52.089361: I tensorflow/stream_executor/platform/default/dso_loader.cc:49] Successfully opened dynamic library libcublasLt.so.10\n",
      "2023-06-27 10:27:52.090519: I tensorflow/stream_executor/platform/default/dso_loader.cc:49] Successfully opened dynamic library libcufft.so.10\n",
      "2023-06-27 10:27:52.090729: I tensorflow/stream_executor/platform/default/dso_loader.cc:49] Successfully opened dynamic library libcurand.so.10\n",
      "2023-06-27 10:27:52.092111: I tensorflow/stream_executor/platform/default/dso_loader.cc:49] Successfully opened dynamic library libcusolver.so.10\n",
      "2023-06-27 10:27:52.092826: I tensorflow/stream_executor/platform/default/dso_loader.cc:49] Successfully opened dynamic library libcusparse.so.10\n",
      "2023-06-27 10:27:52.095175: I tensorflow/stream_executor/platform/default/dso_loader.cc:49] Successfully opened dynamic library libcudnn.so.7\n",
      "2023-06-27 10:27:52.096222: I tensorflow/core/common_runtime/gpu/gpu_device.cc:1862] Adding visible gpu devices: 0, 1\n"
     ]
    }
   ],
   "source": [
    "## gpu setting\n",
    "\n",
    "gpus = tf.config.experimental.list_physical_devices('GPU')\n",
    "\n",
    "if gpus:\n",
    "  # 텐서플로가 첫 번째 GPU만 사용하도록 제한\n",
    "  try:\n",
    "    tf.config.experimental.set_visible_devices(gpus[0], 'GPU')\n",
    "  except RuntimeError as e:\n",
    "    # 프로그램 시작시에 접근 가능한 장치가 설정되어야만 합니다\n",
    "    print(e)\n",
    "    \n",
    "  try:\n",
    "    tf.config.experimental.set_memory_growth(gpus[0], True)\n",
    "  except RuntimeError as e:\n",
    "    # 프로그램 시작시에 메모리 증가가 설정되어야만 합니다\n",
    "    print(e)\n",
    "    \n",
    "  # 텐서플로가 첫 번째 GPU에 1GB 메모리만 할당하도록 제한\n",
    "  try:\n",
    "    tf.config.experimental.set_virtual_device_configuration(\n",
    "        gpus[0],\n",
    "        [tf.config.experimental.VirtualDeviceConfiguration(memory_limit=4096)])\n",
    "  except RuntimeError as e:\n",
    "    # 프로그램 시작시에 가상 장치가 설정되어야만 합니다\n",
    "    print(e)"
   ]
  },
  {
   "cell_type": "code",
   "execution_count": 16,
   "id": "92f407d5-703e-45cc-9d14-3447b29d262e",
   "metadata": {
    "tags": []
   },
   "outputs": [
    {
     "name": "stdout",
     "output_type": "stream",
     "text": [
      "83386\n"
     ]
    }
   ],
   "source": [
    "## get elevation map\n",
    "png_folder = '../dataset/90/elevation_map/'\n",
    "\n",
    "png_files = sorted([f for f in os.listdir(png_folder) if f.endswith('.png') and f.split('.')[0].isdigit()]) # 순서대로\n",
    "sorted_files = sorted(png_files, key=lambda x: int(x.split(\".\")[0]))\n",
    "\n",
    "cnt = 0\n",
    "x_all = []\n",
    "for f in sorted_files:\n",
    "    path = os.path.join(png_folder, f)\n",
    "    x = Image.open(path)\n",
    "    x_array = np.array(x)\n",
    "    x_all.append(x_array)\n",
    "    cnt = cnt + 1\n",
    "\n",
    "print(cnt)\n",
    "\n",
    "x_all = np.array(x_all)"
   ]
  },
  {
   "cell_type": "code",
   "execution_count": 17,
   "id": "a1d2a2a9-3f91-44f9-8eea-9575e2b89784",
   "metadata": {
    "tags": []
   },
   "outputs": [
    {
     "name": "stdout",
     "output_type": "stream",
     "text": [
      "dataset:  (83386, 3)\n",
      "[1.         1.         0.93684211 1.         0.07368421 0.93157895\n",
      " 1.         1.         0.93684211 0.93684211 0.93684211 0.93684211\n",
      " 0.93684211 1.         1.         1.         1.         0.93684211\n",
      " 0.93684211 0.93684211]\n",
      "[1.         1.         0.93157895 1.         0.07894737 0.94210526\n",
      " 1.         1.         0.93157895 0.93157895 0.93157895 0.93157895\n",
      " 0.93157895 1.         1.         1.         1.         0.93157895\n",
      " 0.93157895 0.93157895]\n"
     ]
    }
   ],
   "source": [
    "## read csv file\n",
    "\n",
    "\n",
    "# read csv file into a pandas dataframe\n",
    "dataset_pd = pd.read_csv(\"../dataset/90/dataset.csv\")\n",
    "\n",
    "# convert pandas dataframe to numpy array\n",
    "dataset_numpy = dataset_pd.values\n",
    "\n",
    "dataset = dataset_numpy\n",
    "print(\"dataset: \", dataset.shape)\n",
    "\n",
    "y_left_all = dataset[:,1]/190\n",
    "y_right_all = dataset[:,2]/190\n",
    "\n",
    "print(y_left_all[:20])\n",
    "print(y_right_all[:20])"
   ]
  },
  {
   "cell_type": "code",
   "execution_count": 47,
   "id": "8e61bec4-9e63-4505-9664-fa65a8d9d1c0",
   "metadata": {
    "tags": []
   },
   "outputs": [
    {
     "name": "stdout",
     "output_type": "stream",
     "text": [
      "(83386, 70, 70)\n"
     ]
    },
    {
     "data": {
      "image/png": "[encoded data removed]",
      "text/plain": [
       "<Figure size 640x480 with 1 Axes>"
      ]
     },
     "metadata": {},
     "output_type": "display_data"
    },
    {
     "name": "stdout",
     "output_type": "stream",
     "text": [
      "left_max_yaw:  11.0\n",
      "right_max_yaw:  13.0\n"
     ]
    }
   ],
   "source": [
    "## dataset check\n",
    "\n",
    "index = 27\n",
    "\n",
    "print(x_all.shape)\n",
    "plt.imshow(x_all[index], cmap='gray')\n",
    "plt.show()\n",
    "\n",
    "print(\"left_max_yaw: \", y_left_all[index]*190)\n",
    "print(\"right_max_yaw: \", y_right_all[index]*190)"
   ]
  },
  {
   "cell_type": "code",
   "execution_count": 18,
   "id": "a04036cf-14be-4e51-9311-ce95ef3f3231",
   "metadata": {
    "tags": []
   },
   "outputs": [
    {
     "name": "stdout",
     "output_type": "stream",
     "text": [
      "x_train:  (53366, 70, 70)\n",
      "x_val:  (13342, 70, 70)\n",
      "x_test:  (16678, 70, 70)\n",
      "y_left_train:  (53366,)\n",
      "y_left_val:  (13342,)\n",
      "y_left_test:  (16678,)\n",
      "y_right_train:  (53366,)\n",
      "y_right_val:  (13342,)\n",
      "y_right_test:  (16678,)\n"
     ]
    }
   ],
   "source": [
    "## split dataset to train, validation, test set\n",
    "\n",
    "x_train_all, x_test, y_left_train_all, y_left_test, y_right_train_all, y_right_test = train_test_split(x_all, y_left_all, y_right_all, test_size=0.2, random_state=42)\n",
    "x_train, x_val, y_left_train, y_left_val, y_right_train, y_right_val = train_test_split(x_train_all, y_left_train_all, y_right_train_all, test_size=0.2, random_state=42)\n",
    "\n",
    "print(\"x_train: \",x_train.shape)\n",
    "print(\"x_val: \",x_val.shape)\n",
    "print(\"x_test: \",x_test.shape)\n",
    "print(\"y_left_train: \",y_left_train.shape)\n",
    "print(\"y_left_val: \",y_left_val.shape)\n",
    "print(\"y_left_test: \",y_left_test.shape)\n",
    "print(\"y_right_train: \",y_right_train.shape)\n",
    "print(\"y_right_val: \",y_right_val.shape)\n",
    "print(\"y_right_test: \",y_right_test.shape)"
   ]
  },
  {
   "cell_type": "code",
   "execution_count": 19,
   "id": "3de8a854-b2c0-4052-8453-de8a3a8d3099",
   "metadata": {
    "tags": []
   },
   "outputs": [
    {
     "name": "stdout",
     "output_type": "stream",
     "text": [
      "(53366, 70, 70, 1)\n",
      "(13342, 70, 70, 1)\n",
      "(16678, 70, 70, 1)\n"
     ]
    }
   ],
   "source": [
    "## image preprocessing\n",
    "\n",
    "x_train = x_train.astype('float32')/255\n",
    "x_val = x_val.astype('float32')/255\n",
    "x_test = x_test.astype('float32')/255\n",
    "\n",
    "x_train = x_train.reshape(-1, 70, 70, 1)\n",
    "x_val = x_val.reshape(-1, 70, 70, 1)\n",
    "x_test = x_test.reshape(-1, 70, 70, 1)\n",
    "\n",
    "print(x_train.shape)\n",
    "print(x_val.shape)\n",
    "print(x_test.shape)"
   ]
  },
  {
   "cell_type": "code",
   "execution_count": 20,
   "id": "6687e955-cf07-4bd3-b274-69b837ad7328",
   "metadata": {
    "tags": []
   },
   "outputs": [
    {
     "name": "stdout",
     "output_type": "stream",
     "text": [
      "Model: \"model\"\n",
      "__________________________________________________________________________________________________\n",
      "Layer (type)                    Output Shape         Param #     Connected to                     \n",
      "==================================================================================================\n",
      "input_1 (InputLayer)            [(None, 70, 70, 1)]  0                                            \n",
      "__________________________________________________________________________________________________\n",
      "conv2d (Conv2D)                 (None, 70, 70, 16)   160         input_1[0][0]                    \n",
      "__________________________________________________________________________________________________\n",
      "activation (Activation)         (None, 70, 70, 16)   0           conv2d[0][0]                     \n",
      "__________________________________________________________________________________________________\n",
      "max_pooling2d (MaxPooling2D)    (None, 35, 35, 16)   0           activation[0][0]                 \n",
      "__________________________________________________________________________________________________\n",
      "conv2d_1 (Conv2D)               (None, 35, 35, 16)   2320        max_pooling2d[0][0]              \n",
      "__________________________________________________________________________________________________\n",
      "activation_1 (Activation)       (None, 35, 35, 16)   0           conv2d_1[0][0]                   \n",
      "__________________________________________________________________________________________________\n",
      "max_pooling2d_1 (MaxPooling2D)  (None, 17, 17, 16)   0           activation_1[0][0]               \n",
      "__________________________________________________________________________________________________\n",
      "conv2d_2 (Conv2D)               (None, 17, 17, 32)   4640        max_pooling2d_1[0][0]            \n",
      "__________________________________________________________________________________________________\n",
      "activation_2 (Activation)       (None, 17, 17, 32)   0           conv2d_2[0][0]                   \n",
      "__________________________________________________________________________________________________\n",
      "max_pooling2d_2 (MaxPooling2D)  (None, 8, 8, 32)     0           activation_2[0][0]               \n",
      "__________________________________________________________________________________________________\n",
      "conv2d_3 (Conv2D)               (None, 8, 8, 32)     9248        max_pooling2d_2[0][0]            \n",
      "__________________________________________________________________________________________________\n",
      "activation_3 (Activation)       (None, 8, 8, 32)     0           conv2d_3[0][0]                   \n",
      "__________________________________________________________________________________________________\n",
      "max_pooling2d_3 (MaxPooling2D)  (None, 4, 4, 32)     0           activation_3[0][0]               \n",
      "__________________________________________________________________________________________________\n",
      "dropout (Dropout)               (None, 4, 4, 32)     0           max_pooling2d_3[0][0]            \n",
      "__________________________________________________________________________________________________\n",
      "flatten (Flatten)               (None, 512)          0           dropout[0][0]                    \n",
      "__________________________________________________________________________________________________\n",
      "dense (Dense)                   (None, 64)           32832       flatten[0][0]                    \n",
      "__________________________________________________________________________________________________\n",
      "activation_4 (Activation)       (None, 64)           0           dense[0][0]                      \n",
      "__________________________________________________________________________________________________\n",
      "dense_1 (Dense)                 (None, 64)           4160        activation_4[0][0]               \n",
      "__________________________________________________________________________________________________\n",
      "activation_5 (Activation)       (None, 64)           0           dense_1[0][0]                    \n",
      "__________________________________________________________________________________________________\n",
      "dense_2 (Dense)                 (None, 32)           2080        activation_5[0][0]               \n",
      "__________________________________________________________________________________________________\n",
      "activation_6 (Activation)       (None, 32)           0           dense_2[0][0]                    \n",
      "__________________________________________________________________________________________________\n",
      "left_max_yaw (Dense)            (None, 1)            33          activation_6[0][0]               \n",
      "__________________________________________________________________________________________________\n",
      "right_max_yaw (Dense)           (None, 1)            33          activation_6[0][0]               \n",
      "==================================================================================================\n",
      "Total params: 55,506\n",
      "Trainable params: 55,506\n",
      "Non-trainable params: 0\n",
      "__________________________________________________________________________________________________\n"
     ]
    },
    {
     "name": "stderr",
     "output_type": "stream",
     "text": [
      "2023-06-27 10:28:26.043433: I tensorflow/core/platform/cpu_feature_guard.cc:142] This TensorFlow binary is optimized with oneAPI Deep Neural Network Library (oneDNN) to use the following CPU instructions in performance-critical operations:  SSE4.1 SSE4.2 AVX AVX2 FMA\n",
      "To enable them in other operations, rebuild TensorFlow with the appropriate compiler flags.\n",
      "2023-06-27 10:28:26.047572: I tensorflow/compiler/jit/xla_gpu_device.cc:99] Not creating XLA devices, tf_xla_enable_xla_devices not set\n",
      "2023-06-27 10:28:26.048132: I tensorflow/core/common_runtime/gpu/gpu_device.cc:1720] Found device 0 with properties: \n",
      "pciBusID: 0000:01:00.0 name: NVIDIA RTX A5000 computeCapability: 8.6\n",
      "coreClock: 1.695GHz coreCount: 64 deviceMemorySize: 23.69GiB deviceMemoryBandwidth: 715.34GiB/s\n",
      "2023-06-27 10:28:26.048158: I tensorflow/stream_executor/platform/default/dso_loader.cc:49] Successfully opened dynamic library libcudart.so.10.1\n",
      "2023-06-27 10:28:26.048190: I tensorflow/stream_executor/platform/default/dso_loader.cc:49] Successfully opened dynamic library libcublas.so.10\n",
      "2023-06-27 10:28:26.048201: I tensorflow/stream_executor/platform/default/dso_loader.cc:49] Successfully opened dynamic library libcublasLt.so.10\n",
      "2023-06-27 10:28:26.048211: I tensorflow/stream_executor/platform/default/dso_loader.cc:49] Successfully opened dynamic library libcufft.so.10\n",
      "2023-06-27 10:28:26.048224: I tensorflow/stream_executor/platform/default/dso_loader.cc:49] Successfully opened dynamic library libcurand.so.10\n",
      "2023-06-27 10:28:26.048234: I tensorflow/stream_executor/platform/default/dso_loader.cc:49] Successfully opened dynamic library libcusolver.so.10\n",
      "2023-06-27 10:28:26.048247: I tensorflow/stream_executor/platform/default/dso_loader.cc:49] Successfully opened dynamic library libcusparse.so.10\n",
      "2023-06-27 10:28:26.048258: I tensorflow/stream_executor/platform/default/dso_loader.cc:49] Successfully opened dynamic library libcudnn.so.7\n",
      "2023-06-27 10:28:26.048622: I tensorflow/core/common_runtime/gpu/gpu_device.cc:1862] Adding visible gpu devices: 0\n",
      "2023-06-27 10:28:26.048651: I tensorflow/stream_executor/platform/default/dso_loader.cc:49] Successfully opened dynamic library libcudart.so.10.1\n",
      "2023-06-27 10:31:03.709427: I tensorflow/core/common_runtime/gpu/gpu_device.cc:1261] Device interconnect StreamExecutor with strength 1 edge matrix:\n",
      "2023-06-27 10:31:03.709467: I tensorflow/core/common_runtime/gpu/gpu_device.cc:1267]      0 \n",
      "2023-06-27 10:31:03.709471: I tensorflow/core/common_runtime/gpu/gpu_device.cc:1280] 0:   N \n",
      "2023-06-27 10:31:03.710499: I tensorflow/core/common_runtime/gpu/gpu_device.cc:1406] Created TensorFlow device (/job:localhost/replica:0/task:0/device:GPU:0 with 4096 MB memory) -> physical GPU (device: 0, name: NVIDIA RTX A5000, pci bus id: 0000:01:00.0, compute capability: 8.6)\n"
     ]
    }
   ],
   "source": [
    "## build layer\n",
    "\n",
    "_x_train = Input(shape=(70, 70, 1))\n",
    "\n",
    "x = Conv2D(16, (3, 3), padding='same')(_x_train)\n",
    "x = Activation('relu')(x)\n",
    "x = MaxPooling2D((2, 2))(x)\n",
    "\n",
    "x = Conv2D(16, (3, 3), padding='same')(x)\n",
    "x = Activation('relu')(x)\n",
    "x = MaxPooling2D((2, 2))(x)\n",
    "\n",
    "x = Conv2D(32, (3, 3), padding='same')(x)\n",
    "x = Activation('relu')(x)\n",
    "x = MaxPooling2D((2, 2))(x)\n",
    "\n",
    "x = Conv2D(32, (3, 3), padding='same')(x)\n",
    "x = Activation('relu')(x)\n",
    "x = MaxPooling2D((2, 2))(x)\n",
    "\n",
    "x = Dropout(0.5)(x)\n",
    "\n",
    "x = Flatten()(x)\n",
    "x = Dense(64)(x)\n",
    "x = Activation('relu')(x)\n",
    "\n",
    "x = Dense(64)(x)\n",
    "x = Activation('relu')(x)\n",
    "\n",
    "x = Dense(32)(x)\n",
    "x = Activation('relu')(x)\n",
    "\n",
    "\n",
    "output_left = Dense(1, activation='linear', name='left_max_yaw')(x)\n",
    "output_right = Dense(1, activation='linear', name='right_max_yaw')(x)\n",
    "\n",
    "model = Model(inputs=[_x_train], outputs=[output_left, output_right])\n",
    "\n",
    "_learning_rate = 0.001  # set your desired learning rate here\n",
    "\n",
    "optimizer = Adam(learning_rate=_learning_rate)\n",
    "model.compile(optimizer=optimizer, loss='mean_squared_error')\n",
    "\n",
    "model.summary()"
   ]
  },
  {
   "cell_type": "code",
   "execution_count": 21,
   "id": "94bdf9cb-2642-40b4-a20d-9866dec61632",
   "metadata": {
    "tags": []
   },
   "outputs": [
    {
     "name": "stderr",
     "output_type": "stream",
     "text": [
      "2023-06-27 10:32:08.949586: I tensorflow/compiler/mlir/mlir_graph_optimization_pass.cc:116] None of the MLIR optimization passes are enabled (registered 2)\n",
      "2023-06-27 10:32:08.968858: I tensorflow/core/platform/profile_utils/cpu_utils.cc:112] CPU Frequency: 2850085000 Hz\n"
     ]
    },
    {
     "name": "stdout",
     "output_type": "stream",
     "text": [
      "Epoch 1/1000\n"
     ]
    },
    {
     "name": "stderr",
     "output_type": "stream",
     "text": [
      "2023-06-27 10:32:09.340177: I tensorflow/stream_executor/platform/default/dso_loader.cc:49] Successfully opened dynamic library libcublas.so.10\n",
      "2023-06-27 10:32:12.551162: I tensorflow/stream_executor/platform/default/dso_loader.cc:49] Successfully opened dynamic library libcudnn.so.7\n",
      "2023-06-27 10:35:43.338274: W tensorflow/stream_executor/gpu/asm_compiler.cc:63] Running ptxas --version returned 256\n",
      "2023-06-27 10:35:43.435030: W tensorflow/stream_executor/gpu/redzone_allocator.cc:314] Internal: ptxas exited with non-zero error code 256, output: \n",
      "Relying on driver to perform ptx compilation. \n",
      "Modify $PATH to customize ptxas location.\n",
      "This message will be only logged once.\n"
     ]
    },
    {
     "name": "stdout",
     "output_type": "stream",
     "text": [
      "3336/3336 [==============================] - 260s 9ms/step - loss: 0.6246 - left_max_yaw_loss: 0.3129 - right_max_yaw_loss: 0.3117 - val_loss: 0.2156 - val_left_max_yaw_loss: 0.1098 - val_right_max_yaw_loss: 0.1058\n",
      "Epoch 2/1000\n",
      "3336/3336 [==============================] - 10s 3ms/step - loss: 0.2066 - left_max_yaw_loss: 0.1044 - right_max_yaw_loss: 0.1022 - val_loss: 0.2157 - val_left_max_yaw_loss: 0.1098 - val_right_max_yaw_loss: 0.1059\n",
      "Epoch 3/1000\n",
      "3336/3336 [==============================] - 11s 3ms/step - loss: 0.2105 - left_max_yaw_loss: 0.1065 - right_max_yaw_loss: 0.1041 - val_loss: 0.2156 - val_left_max_yaw_loss: 0.1098 - val_right_max_yaw_loss: 0.1058\n",
      "Epoch 4/1000\n",
      "3336/3336 [==============================] - 11s 3ms/step - loss: 0.2132 - left_max_yaw_loss: 0.1074 - right_max_yaw_loss: 0.1058 - val_loss: 0.2158 - val_left_max_yaw_loss: 0.1099 - val_right_max_yaw_loss: 0.1059\n",
      "Epoch 5/1000\n",
      "3336/3336 [==============================] - 10s 3ms/step - loss: 0.2100 - left_max_yaw_loss: 0.1063 - right_max_yaw_loss: 0.1036 - val_loss: 0.2156 - val_left_max_yaw_loss: 0.1097 - val_right_max_yaw_loss: 0.1058\n",
      "Epoch 6/1000\n",
      "3336/3336 [==============================] - 10s 3ms/step - loss: 0.2105 - left_max_yaw_loss: 0.1060 - right_max_yaw_loss: 0.1045 - val_loss: 0.2156 - val_left_max_yaw_loss: 0.1097 - val_right_max_yaw_loss: 0.1058\n",
      "Epoch 7/1000\n",
      "3336/3336 [==============================] - 11s 3ms/step - loss: 0.2097 - left_max_yaw_loss: 0.1055 - right_max_yaw_loss: 0.1042 - val_loss: 0.2156 - val_left_max_yaw_loss: 0.1098 - val_right_max_yaw_loss: 0.1059\n",
      "Epoch 8/1000\n",
      "3336/3336 [==============================] - 10s 3ms/step - loss: 0.2095 - left_max_yaw_loss: 0.1058 - right_max_yaw_loss: 0.1038 - val_loss: 0.2157 - val_left_max_yaw_loss: 0.1098 - val_right_max_yaw_loss: 0.1059\n",
      "Epoch 9/1000\n",
      "3336/3336 [==============================] - 11s 3ms/step - loss: 0.2117 - left_max_yaw_loss: 0.1069 - right_max_yaw_loss: 0.1047 - val_loss: 0.2156 - val_left_max_yaw_loss: 0.1097 - val_right_max_yaw_loss: 0.1058\n",
      "Epoch 10/1000\n",
      "3336/3336 [==============================] - 11s 3ms/step - loss: 0.2090 - left_max_yaw_loss: 0.1054 - right_max_yaw_loss: 0.1036 - val_loss: 0.2156 - val_left_max_yaw_loss: 0.1097 - val_right_max_yaw_loss: 0.1059\n",
      "Epoch 11/1000\n",
      "3336/3336 [==============================] - 10s 3ms/step - loss: 0.2112 - left_max_yaw_loss: 0.1069 - right_max_yaw_loss: 0.1043 - val_loss: 0.2156 - val_left_max_yaw_loss: 0.1098 - val_right_max_yaw_loss: 0.1058\n",
      "Epoch 12/1000\n",
      "3336/3336 [==============================] - 11s 3ms/step - loss: 0.2080 - left_max_yaw_loss: 0.1048 - right_max_yaw_loss: 0.1031 - val_loss: 0.2160 - val_left_max_yaw_loss: 0.1100 - val_right_max_yaw_loss: 0.1060\n",
      "Epoch 13/1000\n",
      "3336/3336 [==============================] - 11s 3ms/step - loss: 0.2097 - left_max_yaw_loss: 0.1058 - right_max_yaw_loss: 0.1039 - val_loss: 0.2156 - val_left_max_yaw_loss: 0.1098 - val_right_max_yaw_loss: 0.1058\n",
      "Epoch 14/1000\n",
      "3336/3336 [==============================] - 11s 3ms/step - loss: 0.2114 - left_max_yaw_loss: 0.1064 - right_max_yaw_loss: 0.1050 - val_loss: 0.2156 - val_left_max_yaw_loss: 0.1097 - val_right_max_yaw_loss: 0.1058\n",
      "Epoch 15/1000\n",
      "3336/3336 [==============================] - 11s 3ms/step - loss: 0.2104 - left_max_yaw_loss: 0.1063 - right_max_yaw_loss: 0.1041 - val_loss: 0.2157 - val_left_max_yaw_loss: 0.1098 - val_right_max_yaw_loss: 0.1059\n",
      "Epoch 16/1000\n",
      "3336/3336 [==============================] - 12s 4ms/step - loss: 0.2086 - left_max_yaw_loss: 0.1050 - right_max_yaw_loss: 0.1036 - val_loss: 0.2156 - val_left_max_yaw_loss: 0.1098 - val_right_max_yaw_loss: 0.1059\n",
      "Epoch 00016: early stopping\n"
     ]
    },
    {
     "data": {
      "image/png": "[encoded data removed]",
      "text/plain": [
       "<Figure size 640x480 with 1 Axes>"
      ]
     },
     "metadata": {},
     "output_type": "display_data"
    }
   ],
   "source": [
    "## train\n",
    "\n",
    "early_stopping = EarlyStopping(monitor='val_loss', patience=10, verbose=1)\n",
    "\n",
    "history = model.fit(x_train, [y_left_train, y_right_train], epochs=1000, batch_size=16, validation_data=(x_val, [y_left_val, y_right_val]), callbacks=[early_stopping])\n",
    "\n",
    "# history = model.fit(x_train, y_left_train, epochs=1000, batch_size=16, validation_data=(x_val, y_left_val), callbacks=[early_stopping])\n",
    "\n",
    "plt.plot(history.history['loss'])\n",
    "plt.plot(history.history['val_loss'])\n",
    "plt.ylabel('loss')\n",
    "plt.xlabel('epoch')\n",
    "plt.legend(['train_loss', 'val_loss'])\n",
    "plt.show()"
   ]
  },
  {
   "cell_type": "code",
   "execution_count": 63,
   "id": "d72a161c-d5a3-4583-ad0d-d52962a0496a",
   "metadata": {
    "tags": []
   },
   "outputs": [],
   "source": [
    "## save model\n",
    "\n",
    "# model_name = \"20230627(1)\"\n",
    "# model_path = \"../models/\" + model_name + \".h5\"\n",
    "\n",
    "# model.save(model_path)\n",
    "\n",
    "model = keras.models.load_model(model_path)"
   ]
  },
  {
   "cell_type": "code",
   "execution_count": 64,
   "id": "348185b9-4ca1-4742-8557-f16ba0e025a7",
   "metadata": {
    "tags": []
   },
   "outputs": [
    {
     "name": "stdout",
     "output_type": "stream",
     "text": [
      "RMSE: 0.32746389449557783\n",
      "RMSE: 0.3236319007079128\n"
     ]
    }
   ],
   "source": [
    "## model rmse check\n",
    "\n",
    "y_pred = model.predict(x_test)  # 테스트 데이터셋에 대한 예측 결과\n",
    "\n",
    "# RMSE 계산\n",
    "rmse = mean_squared_error(y_left_test, y_pred[0], squared=False)\n",
    "print('RMSE:', rmse)\n",
    "\n",
    "rmse = mean_squared_error(y_right_test, y_pred[1], squared=False)\n",
    "print('RMSE:', rmse)"
   ]
  },
  {
   "cell_type": "code",
   "execution_count": 74,
   "id": "00c6f5c3-7679-4d1f-bc3d-cb94b5dd902a",
   "metadata": {
    "tags": []
   },
   "outputs": [
    {
     "name": "stdout",
     "output_type": "stream",
     "text": [
      "(1, 70, 70, 1)\n",
      "[array([[0.8216319]], dtype=float32), array([[0.8216463]], dtype=float32)]\n"
     ]
    },
    {
     "data": {
      "image/png": "[encoded data removed]",
      "text/plain": [
       "<Figure size 640x480 with 1 Axes>"
      ]
     },
     "metadata": {},
     "output_type": "display_data"
    },
    {
     "name": "stdout",
     "output_type": "stream",
     "text": [
      "left_max_yaw:  190.0\n",
      "right_max_yaw:  190.0\n",
      "left_max_yaw_pred:  [156.11006]\n",
      "right_max_yaw_pred:  [156.1128]\n"
     ]
    }
   ],
   "source": [
    "## model check\n",
    "\n",
    "# index = 2\n",
    "\n",
    "# plt.imshow(x_test[index], cmap='gray')\n",
    "# plt.show()\n",
    "\n",
    "# _x_test = x_test[index].reshape(1, 70, 70, 1)\n",
    "\n",
    "# print(_x_test)\n",
    "\n",
    "# y_pred = model.predict(_x_test)\n",
    "# print(y_pred)\n",
    "\n",
    "# print(\"left_max_yaw: \", y_left_test[index]*190)\n",
    "# print(\"right_max_yaw: \", y_right_test[index]*190)\n",
    "# print(\"left_max_yaw_pred: \", y_pred[0]*190)\n",
    "# print(\"right_max_yaw_pred: \", y_pred[1]*190)\n",
    "\n",
    "index = 0\n",
    "\n",
    "x = x_test[index].reshape(-1,70,70,1)\n",
    "print(x.shape)\n",
    "y_pred = model.predict(x)\n",
    "print(y_pred)\n",
    "\n",
    "plt.imshow(x_test[index], cmap='gray')\n",
    "plt.show()\n",
    "\n",
    "print(\"left_max_yaw: \", y_left_test[index]*190)\n",
    "print(\"right_max_yaw: \", y_right_test[index]*190)\n",
    "print(\"left_max_yaw_pred: \", y_pred[0][index]*190)\n",
    "print(\"right_max_yaw_pred: \", y_pred[1][index]*190)"
   ]
  },
  {
   "cell_type": "code",
   "execution_count": null,
   "id": "c732d4db-90f5-4ce2-bb34-a9243b5468ab",
   "metadata": {},
   "outputs": [],
   "source": []
  }
 ],
 "metadata": {
  "kernelspec": {
   "display_name": "Python 3 (ipykernel)",
   "language": "python",
   "name": "python3"
  },
  "language_info": {
   "codemirror_mode": {
    "name": "ipython",
    "version": 3
   },
   "file_extension": ".py",
   "mimetype": "text/x-python",
   "name": "python",
   "nbconvert_exporter": "python",
   "pygments_lexer": "ipython3",
   "version": "3.8.16"
  }
 },
 "nbformat": 4,
 "nbformat_minor": 5
}
